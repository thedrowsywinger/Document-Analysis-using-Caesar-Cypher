{
 "cells": [
  {
   "cell_type": "markdown",
   "metadata": {},
   "source": [
    "Required Libraries"
   ]
  },
  {
   "cell_type": "code",
   "execution_count": null,
   "metadata": {
    "colab": {
     "base_uri": "https://localhost:8080/",
     "height": 68
    },
    "colab_type": "code",
    "id": "mC6jIWgKHSKx",
    "outputId": "311e08f9-046a-43e2-e08b-0acedfe1309e"
   },
   "outputs": [],
   "source": [
    "import nltk\n",
    "from nltk.corpus import words\n",
    "from tqdm import tqdm"
   ]
  },
  {
   "cell_type": "markdown",
   "metadata": {},
   "source": [
    "Input File"
   ]
  },
  {
   "cell_type": "code",
   "execution_count": null,
   "metadata": {
    "colab": {},
    "colab_type": "code",
    "id": "Iq1lCcThHklm"
   },
   "outputs": [],
   "source": [
    "file = \"\""
   ]
  },
  {
   "cell_type": "code",
   "execution_count": null,
   "metadata": {
    "colab": {},
    "colab_type": "code",
    "id": "CjuDeUPJKH5w"
   },
   "outputs": [],
   "source": [
    "input_file = open(file, \"rt\")\n",
    "data = input_file.read()"
   ]
  },
  {
   "cell_type": "markdown",
   "metadata": {},
   "source": [
    "Word Count"
   ]
  },
  {
   "cell_type": "code",
   "execution_count": null,
   "metadata": {
    "colab": {
     "base_uri": "https://localhost:8080/",
     "height": 34
    },
    "colab_type": "code",
    "id": "3s08AFp6KMHo",
    "outputId": "747d08be-065d-4d66-deba-26815061e821"
   },
   "outputs": [],
   "source": [
    "words_list = data.split()\n",
    "print('Number of words in text file :', len(words_list))"
   ]
  },
  {
   "cell_type": "markdown",
   "metadata": {},
   "source": [
    "Character Count"
   ]
  },
  {
   "cell_type": "code",
   "execution_count": null,
   "metadata": {
    "colab": {
     "base_uri": "https://localhost:8080/",
     "height": 34
    },
    "colab_type": "code",
    "id": "X01yMFCVKRjt",
    "outputId": "e4e5306d-ce36-4aad-921f-dd6fa5879324"
   },
   "outputs": [],
   "source": [
    "number_of_characters = len(data)\n",
    "print('Number of characters in text file :', number_of_characters)"
   ]
  },
  {
   "cell_type": "markdown",
   "metadata": {},
   "source": [
    "Creating a Frequency Dictionary"
   ]
  },
  {
   "cell_type": "code",
   "execution_count": null,
   "metadata": {
    "colab": {},
    "colab_type": "code",
    "id": "mBF2Gc5XKSqd"
   },
   "outputs": [],
   "source": [
    "frequency_dictionary = {} \n",
    "  \n",
    "for keys in data: \n",
    "    frequency_dictionary[keys] = frequency_dictionary.get(keys, 0) + 1"
   ]
  },
  {
   "cell_type": "code",
   "execution_count": null,
   "metadata": {
    "colab": {
     "base_uri": "https://localhost:8080/",
     "height": 510
    },
    "colab_type": "code",
    "id": "kA1H68lMKVI9",
    "outputId": "70cc23bc-e5be-4cf8-9546-1309ecda770e"
   },
   "outputs": [],
   "source": [
    "frequency_dictionary"
   ]
  },
  {
   "cell_type": "markdown",
   "metadata": {},
   "source": [
    "Frequency Dictionary updated with percentage metric"
   ]
  },
  {
   "cell_type": "code",
   "execution_count": null,
   "metadata": {
    "colab": {},
    "colab_type": "code",
    "id": "kyOlsp-GS2pX"
   },
   "outputs": [],
   "source": [
    "frequency_dictionary_new = {}\n",
    "for key, value in frequency_dictionary.items():\n",
    "    a = value\n",
    "    b = 100/number_of_characters\n",
    "    percentage = a * b\n",
    "    percentage = round(percentage,2)\n",
    "    frequency_dictionary_new[key] = percentage\n"
   ]
  },
  {
   "cell_type": "code",
   "execution_count": null,
   "metadata": {
    "colab": {
     "base_uri": "https://localhost:8080/",
     "height": 510
    },
    "colab_type": "code",
    "id": "nbwBlOWCTT-j",
    "outputId": "b729ecd2-789a-4a0e-98cb-11148f5ea0da"
   },
   "outputs": [],
   "source": [
    "frequency_dictionary_new"
   ]
  },
  {
   "cell_type": "markdown",
   "metadata": {},
   "source": [
    "Keeping the frequencies in a list"
   ]
  },
  {
   "cell_type": "code",
   "execution_count": null,
   "metadata": {
    "colab": {},
    "colab_type": "code",
    "id": "y_H3Yys6K0px"
   },
   "outputs": [],
   "source": [
    "list_of_values = []\n",
    "for key, value in frequency_dictionary_new.items():\n",
    "    list_of_values.append(value)"
   ]
  },
  {
   "cell_type": "code",
   "execution_count": null,
   "metadata": {
    "colab": {
     "base_uri": "https://localhost:8080/",
     "height": 510
    },
    "colab_type": "code",
    "id": "BxBR3scqVYNI",
    "outputId": "395a5b9f-0733-4ff3-b376-68d3082722e0"
   },
   "outputs": [],
   "source": [
    "list_of_values"
   ]
  },
  {
   "cell_type": "code",
   "execution_count": null,
   "metadata": {
    "colab": {
     "base_uri": "https://localhost:8080/",
     "height": 34
    },
    "colab_type": "code",
    "id": "ia3qa0vEV3SL",
    "outputId": "589c05bc-88f1-446e-f050-652bb1c85994"
   },
   "outputs": [],
   "source": [
    "len(list_of_values)"
   ]
  },
  {
   "cell_type": "markdown",
   "metadata": {},
   "source": [
    "Sorting the list of frequencies"
   ]
  },
  {
   "cell_type": "code",
   "execution_count": null,
   "metadata": {
    "colab": {},
    "colab_type": "code",
    "id": "kufg_seDVjKp"
   },
   "outputs": [],
   "source": [
    "sorted_list = sorted(list_of_values)"
   ]
  },
  {
   "cell_type": "code",
   "execution_count": null,
   "metadata": {
    "colab": {
     "base_uri": "https://localhost:8080/",
     "height": 34
    },
    "colab_type": "code",
    "id": "jRTPNIguVkoB",
    "outputId": "9059c1be-d25e-4f62-d493-ad6c93b39912"
   },
   "outputs": [],
   "source": [
    "print(sorted_list)"
   ]
  },
  {
   "cell_type": "code",
   "execution_count": null,
   "metadata": {
    "colab": {},
    "colab_type": "code",
    "id": "ETpKsGKMWm1U"
   },
   "outputs": [],
   "source": [
    "sorted_list = sorted_list[::-1]"
   ]
  },
  {
   "cell_type": "markdown",
   "metadata": {},
   "source": [
    "In Descending order"
   ]
  },
  {
   "cell_type": "code",
   "execution_count": null,
   "metadata": {
    "colab": {},
    "colab_type": "code",
    "id": "nvWsjBfhXCe8"
   },
   "outputs": [],
   "source": [
    "sorted_list"
   ]
  },
  {
   "cell_type": "markdown",
   "metadata": {},
   "source": [
    "Frequency of the word \"E\" in English Language. Cite: https://en.wikipedia.org/wiki/Letter_frequency"
   ]
  },
  {
   "cell_type": "code",
   "execution_count": null,
   "metadata": {
    "colab": {},
    "colab_type": "code",
    "id": "MfLmMz9bXF7c"
   },
   "outputs": [],
   "source": [
    "frequency_of_E = 12.02"
   ]
  },
  {
   "cell_type": "markdown",
   "metadata": {},
   "source": [
    "Encryption, Decryption code for Caesar Cypher"
   ]
  },
  {
   "cell_type": "code",
   "execution_count": null,
   "metadata": {},
   "outputs": [],
   "source": [
    "def encrypt(n, plaintext):\n",
    "    \"\"\"Encrypt the string and return the ciphertext\"\"\"\n",
    "    result = ''\n",
    "\n",
    "    for l in plaintext.lower():\n",
    "        try:\n",
    "            i = (key.index(l) + n) % 26\n",
    "            result += key[i]\n",
    "        except ValueError:\n",
    "            result += l\n",
    "\n",
    "    return result.lower()"
   ]
  },
  {
   "cell_type": "code",
   "execution_count": null,
   "metadata": {},
   "outputs": [],
   "source": [
    "def decrypt(n, ciphertext):\n",
    "    \"\"\"Decrypt the string and return the plaintext\"\"\"\n",
    "    result = ''\n",
    "\n",
    "    for l in ciphertext:\n",
    "        try:\n",
    "            i = (key.index(l) - n) % 26\n",
    "            result += key[i]\n",
    "        except ValueError:\n",
    "            result += l\n",
    "\n",
    "    return result"
   ]
  },
  {
   "cell_type": "markdown",
   "metadata": {},
   "source": [
    "How the shifts will look like in the given encrypted document"
   ]
  },
  {
   "cell_type": "code",
   "execution_count": null,
   "metadata": {},
   "outputs": [],
   "source": [
    "for i in sorted_list:\n",
    "    shift = abs(int(frequency_of_E - i))"
   ]
  },
  {
   "cell_type": "code",
   "execution_count": null,
   "metadata": {},
   "outputs": [],
   "source": [
    "key = 'abcdefghijklmnopqrstuvwxyz'\n",
    "key = key.upper()"
   ]
  },
  {
   "cell_type": "markdown",
   "metadata": {},
   "source": [
    "Testing the encryption , decryption functions\n"
   ]
  },
  {
   "cell_type": "code",
   "execution_count": null,
   "metadata": {},
   "outputs": [],
   "source": [
    "text = \"I love Manchester United!\"\n",
    "offset = 5"
   ]
  },
  {
   "cell_type": "code",
   "execution_count": null,
   "metadata": {},
   "outputs": [],
   "source": [
    "encrypted = encrypt(offset, text)\n",
    "print('Encrypted:', encrypted)"
   ]
  },
  {
   "cell_type": "code",
   "execution_count": null,
   "metadata": {},
   "outputs": [],
   "source": [
    "decrypted = decrypt(offset, encrypted)\n",
    "print('Decrypted:', decrypted)"
   ]
  },
  {
   "cell_type": "markdown",
   "metadata": {},
   "source": [
    "Decryption code"
   ]
  },
  {
   "cell_type": "code",
   "execution_count": null,
   "metadata": {},
   "outputs": [],
   "source": [
    "decrypted = ''\n",
    "for i in tqdm(sorted_list):\n",
    "    shift = abs(int(frequency_of_E - i))\n",
    "    print(\"The shift: \",shift)\n",
    "    result = decrypt(shift,data[0:500])\n",
    "    print(\"Decrypted result: \", result)\n",
    "    # validator_list = []\n",
    "    truth_counter = 0\n",
    "    for w in result.split():\n",
    "        check = w in words.words()\n",
    "        if check == \"True\":\n",
    "            truth_counter += 1\n",
    "    print(\"True words found in this iteration: \", truth_counter)\n",
    "    total = len(result)\n",
    "    a = 100/total\n",
    "    b = a * truth_counter\n",
    "    print(\"Actual percentage: \", b)\n",
    "    if b > 50:\n",
    "        print(\"yes\")\n",
    "        decrypted = 'Yes'\n",
    "        \n",
    "    else:\n",
    "        print(\"no\")\n",
    "\n",
    "        "
   ]
  },
  {
   "cell_type": "code",
   "execution_count": null,
   "metadata": {},
   "outputs": [],
   "source": []
  }
 ],
 "metadata": {
  "colab": {
   "name": "Analysis.ipynb",
   "provenance": []
  },
  "kernelspec": {
   "display_name": "Python 3",
   "language": "python",
   "name": "python3"
  },
  "language_info": {
   "codemirror_mode": {
    "name": "ipython",
    "version": 3
   },
   "file_extension": ".py",
   "mimetype": "text/x-python",
   "name": "python",
   "nbconvert_exporter": "python",
   "pygments_lexer": "ipython3",
   "version": "3.7.4"
  }
 },
 "nbformat": 4,
 "nbformat_minor": 1
}
